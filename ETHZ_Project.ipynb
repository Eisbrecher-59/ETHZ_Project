{
 "cells": [
  {
   "cell_type": "markdown",
   "id": "4067fadb-fb04-4bd2-b4b1-35647aaff8fd",
   "metadata": {},
   "source": [
    "# ETHZ Project\n",
    "\n",
    "This project is associated with the lecture in the Computational Social Science Chair at the ETH Zurich: Data Science in Techno-Socio-Economic Systems\n",
    "\n",
    "The idea is to analyse a dataset using different tools seen during the class.\n",
    "\n",
    "To do that, we use MISP data, i.e. a data set composed by data retrieved on the February 8th 2022. From this dataset, we consider the attributes and we want to know how the MISP Platform is built, based on the inheritance principle seen in one of my previous contribution.\n",
    "\n",
    "### Import of libraries and Interface definition"
   ]
  },
  {
   "cell_type": "code",
   "execution_count": null,
   "id": "c5ecd169-216c-4cfa-ac9f-eb8686f4dec8",
   "metadata": {},
   "outputs": [],
   "source": [
    "from utils import *\n",
    "from IPython.display import Latex\n",
    "\n",
    "%matplotlib inline\n",
    "%load_ext lab_black"
   ]
  },
  {
   "cell_type": "code",
   "execution_count": null,
   "id": "8e66a603-3125-49d0-89bb-a93b6621f65d",
   "metadata": {},
   "outputs": [],
   "source": []
  }
 ],
 "metadata": {
  "kernelspec": {
   "display_name": "Python 3 (ipykernel)",
   "language": "python",
   "name": "python3"
  },
  "language_info": {
   "codemirror_mode": {
    "name": "ipython",
    "version": 3
   },
   "file_extension": ".py",
   "mimetype": "text/x-python",
   "name": "python",
   "nbconvert_exporter": "python",
   "pygments_lexer": "ipython3",
   "version": "3.8.10"
  }
 },
 "nbformat": 4,
 "nbformat_minor": 5
}
