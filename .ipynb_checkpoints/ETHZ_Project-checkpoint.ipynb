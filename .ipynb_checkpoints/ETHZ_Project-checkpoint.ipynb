{
 "cells": [
  {
   "cell_type": "code",
   "execution_count": 1,
   "id": "b6a63813-a867-4a2e-b7c4-c73785984feb",
   "metadata": {},
   "outputs": [],
   "source": [
    "from utils import *\n",
    "from IPython.display import Latex\n",
    "\n",
    "%matplotlib inline\n",
    "%load_ext lab_black"
   ]
  },
  {
   "cell_type": "code",
   "execution_count": 2,
   "id": "419af5d9-e028-4aa0-acc9-436846811f9c",
   "metadata": {},
   "outputs": [],
   "source": [
    "data_folder = \"/home/gillard/Bureau/MISP_Analysis/Back-up/WEIS2022\"\n",
    "output_folder = \"/home/gillard/Bureau/PhD School/ETHZ Project/Results\"\n",
    "image_folder = \"Results\""
   ]
  },
  {
   "cell_type": "code",
   "execution_count": 3,
   "id": "2ea4d78b-ac49-4624-9bce-ca23405ad4b3",
   "metadata": {},
   "outputs": [
    {
     "name": "stderr",
     "output_type": "stream",
     "text": [
      "/home/gillard/.local/lib/python3.8/site-packages/IPython/core/interactiveshell.py:3172: DtypeWarning: Columns (0,11,12) have mixed types.Specify dtype option on import or set low_memory=False.\n",
      "  has_raised = await self.run_ast_nodes(code_ast.body, cell_name,\n"
     ]
    }
   ],
   "source": [
    "events = pd.read_csv(f\"{data_folder}/Events.csv\")  # , nrows=10000)\n",
    "attributes = pd.read_csv(f\"{data_folder}/Attributes.csv\")  # , nrows=1000000)\n",
    "tags = pd.read_csv(f\"{data_folder}/Tags.csv\")  # , nrows=10000)\n",
    "organisations = pd.read_csv(f\"{data_folder}/Organisations.csv\")  # , nrows=10000)"
   ]
  },
  {
   "cell_type": "code",
   "execution_count": 4,
   "id": "ab6ad10c-e852-4216-a3a9-5862c4203e12",
   "metadata": {},
   "outputs": [],
   "source": [
    "attributes = attributes[attributes[\"Value\"] != \"\"]\n",
    "Value_ID = attributes[\"Value\"].astype(\"category\").cat.codes\n",
    "attributes[\"Value ID\"] = Value_ID\n",
    "attributes = attributes[attributes[\"Value ID\"].duplicated(keep=False)]"
   ]
  },
  {
   "cell_type": "code",
   "execution_count": 5,
   "id": "a33d7d41-4986-4bef-9ad9-ba76b22cf62e",
   "metadata": {},
   "outputs": [
    {
     "name": "stdout",
     "output_type": "stream",
     "text": [
      "<class 'pandas.core.frame.DataFrame'>\n",
      "Int64Index: 6614869 entries, 0 to 9423341\n",
      "Data columns (total 16 columns):\n",
      " #   Column              Dtype  \n",
      "---  ------              -----  \n",
      " 0   Event ID            object \n",
      " 1   Orgc ID             float64\n",
      " 2   Org ID              float64\n",
      " 3   Attribute ID        float64\n",
      " 4   UUID                object \n",
      " 5   Attribute Type      object \n",
      " 6   Attribute Category  object \n",
      " 7   Distribution        float64\n",
      " 8   Timestamp           float64\n",
      " 9   Event Date          object \n",
      " 10  Event Published     float64\n",
      " 11  Published           object \n",
      " 12  Deleted             object \n",
      " 13  Value               object \n",
      " 14  Comment             object \n",
      " 15  Value ID            int32  \n",
      "dtypes: float64(6), int32(1), object(9)\n",
      "memory usage: 832.7+ MB\n"
     ]
    }
   ],
   "source": [
    "attributes.info()"
   ]
  },
  {
   "cell_type": "code",
   "execution_count": null,
   "id": "e2d474e7-db45-4db6-a4ad-32df16fde771",
   "metadata": {},
   "outputs": [
    {
     "name": "stderr",
     "output_type": "stream",
     "text": [
      "/home/gillard/.local/lib/python3.8/site-packages/seaborn/_decorators.py:36: FutureWarning: Pass the following variables as keyword args: x, y. From version 0.12, the only valid positional argument will be `data`, and passing other arguments without an explicit keyword will result in an error or misinterpretation.\n",
      "  warnings.warn(\n"
     ]
    },
    {
     "data": {
      "text/plain": [
       "<AxesSubplot:xlabel='Attribute ID', ylabel='Value ID'>"
      ]
     },
     "execution_count": 6,
     "metadata": {},
     "output_type": "execute_result"
    },
    {
     "name": "stderr",
     "output_type": "stream",
     "text": [
      "/home/gillard/.local/lib/python3.8/site-packages/IPython/core/pylabtools.py:137: UserWarning: Creating legend with loc=\"best\" can be slow with large amounts of data.\n",
      "  fig.canvas.print_figure(bytes_io, **kw)\n"
     ]
    }
   ],
   "source": [
    "sns.scatterplot(attributes[\"Attribute ID\"], attributes[\"Value ID\"])"
   ]
  },
  {
   "cell_type": "code",
   "execution_count": null,
   "id": "916106a7-4976-4f3e-afe5-aa1fbbdb8f3c",
   "metadata": {},
   "outputs": [],
   "source": []
  }
 ],
 "metadata": {
  "kernelspec": {
   "display_name": "Python 3 (ipykernel)",
   "language": "python",
   "name": "python3"
  },
  "language_info": {
   "codemirror_mode": {
    "name": "ipython",
    "version": 3
   },
   "file_extension": ".py",
   "mimetype": "text/x-python",
   "name": "python",
   "nbconvert_exporter": "python",
   "pygments_lexer": "ipython3",
   "version": "3.8.10"
  }
 },
 "nbformat": 4,
 "nbformat_minor": 5
}
