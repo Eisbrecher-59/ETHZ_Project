{
 "cells": [
  {
   "cell_type": "code",
   "execution_count": 1,
   "id": "b77d5e9e",
   "metadata": {},
   "outputs": [],
   "source": [
    "#Data Science in TSE Systems/MISP Project\n",
    "#Code written by: Anshak Mallik"
   ]
  },
  {
   "cell_type": "code",
   "execution_count": 1,
   "id": "8aa46fa7",
   "metadata": {},
   "outputs": [],
   "source": [
    "#Importing libraries\n",
    "import numpy as np\n",
    "import pandas as pd\n",
    "# # import nltk\n",
    "# import re"
   ]
  },
  {
   "cell_type": "code",
   "execution_count": 4,
   "id": "f5f08d24",
   "metadata": {},
   "outputs": [
    {
     "name": "stderr",
     "output_type": "stream",
     "text": [
      "/home/gillard/.local/lib/python3.8/site-packages/IPython/core/interactiveshell.py:3172: DtypeWarning: Columns (14,15,16,17,18) have mixed types.Specify dtype option on import or set low_memory=False.\n",
      "  has_raised = await self.run_ast_nodes(code_ast.body, cell_name,\n"
     ]
    }
   ],
   "source": [
    "#Getting the dataframe from Attributes.csv\n",
    "data_folder = \"/home/gillard/Bureau/MISP_Analysis/Back-up/WEIS2022\"\n",
    "attributes = pd.read_csv(\"Normalized_Attributes.csv\")  #dataframe\n",
    "attributes = attributes[attributes[\"Orgc ID\"] != 1203]"
   ]
  },
  {
   "cell_type": "markdown",
   "id": "ef6b0199",
   "metadata": {},
   "source": [
    "## Normalization"
   ]
  },
  {
   "cell_type": "code",
   "execution_count": 5,
   "id": "461ffd62",
   "metadata": {},
   "outputs": [],
   "source": [
    "from collections import OrderedDict\n",
    "\n",
    "#Creating list with all event IDs (without repetition)\n",
    "event_ids = attributes['Event ID']\n",
    "events = list(OrderedDict.fromkeys(event_ids))"
   ]
  },
  {
   "cell_type": "markdown",
   "id": "1cf3e9c8",
   "metadata": {},
   "source": [
    "## Inheritance"
   ]
  },
  {
   "cell_type": "code",
   "execution_count": 6,
   "id": "4b2f5bd3",
   "metadata": {},
   "outputs": [
    {
     "name": "stdout",
     "output_type": "stream",
     "text": [
      "The following event has too many values (more than 5000)!\n",
      "Index 93, Event ID 79819, Values 29641\n",
      "----------\n",
      "The following event has too many values (more than 5000)!\n",
      "Index 152, Event ID 79837, Values 30752\n",
      "----------\n",
      "The following event has too many values (more than 5000)!\n",
      "Index 267, Event ID 62222, Values 41630\n",
      "----------\n",
      "The following event has too many values (more than 5000)!\n",
      "Index 1152, Event ID 86173, Values 7814\n",
      "----------\n",
      "The following event has too many values (more than 5000)!\n",
      "Index 1235, Event ID 14027, Values 33457\n",
      "----------\n",
      "The following event has too many values (more than 5000)!\n",
      "Index 1339, Event ID 14168, Values 41542\n",
      "----------\n",
      "The following event has too many values (more than 5000)!\n",
      "Index 1391, Event ID 14223, Values 40520\n",
      "----------\n",
      "The following event has too many values (more than 5000)!\n",
      "Index 1552, Event ID 62248, Values 34623\n",
      "----------\n",
      "The following event has too many values (more than 5000)!\n",
      "Index 1975, Event ID 6271, Values 5832\n",
      "----------\n",
      "The following event has too many values (more than 5000)!\n",
      "Index 2104, Event ID 14320, Values 6880\n",
      "----------\n",
      "The following event has too many values (more than 5000)!\n",
      "Index 2164, Event ID 69573, Values 11063\n",
      "----------\n",
      "The following event has too many values (more than 5000)!\n",
      "Index 2280, Event ID 14741, Values 45529\n",
      "----------\n",
      "The following event has too many values (more than 5000)!\n",
      "Index 2333, Event ID 86170, Values 5244\n",
      "----------\n",
      "The following event has too many values (more than 5000)!\n",
      "Index 2386, Event ID 15538, Values 19471\n",
      "----------\n",
      "The following event has too many values (more than 5000)!\n",
      "Index 2415, Event ID 86281, Values 8903\n",
      "----------\n",
      "The following event has too many values (more than 5000)!\n",
      "Index 2476, Event ID 14711, Values 48083\n",
      "----------\n",
      "The following event has too many values (more than 5000)!\n",
      "Index 2794, Event ID 14222, Values 41165\n",
      "----------\n",
      "The following event has too many values (more than 5000)!\n",
      "Index 2799, Event ID 14449, Values 47654\n",
      "----------\n",
      "The following event has too many values (more than 5000)!\n",
      "Index 2896, Event ID 26321, Values 38790\n",
      "----------\n",
      "The following event has too many values (more than 5000)!\n",
      "Index 2950, Event ID 90141, Values 8168\n",
      "----------\n",
      "The following event has too many values (more than 5000)!\n",
      "Index 3023, Event ID 97697, Values 11264\n",
      "----------\n",
      "The following event has too many values (more than 5000)!\n",
      "Index 3082, Event ID 44677, Values 53184\n",
      "----------\n",
      "The following event has too many values (more than 5000)!\n",
      "Index 3154, Event ID 62336, Values 21910\n",
      "----------\n",
      "The following event has too many values (more than 5000)!\n",
      "Index 3270, Event ID 14388, Values 36887\n",
      "----------\n",
      "The following event has too many values (more than 5000)!\n",
      "Index 3649, Event ID 42970, Values 58354\n",
      "----------\n",
      "The following event has too many values (more than 5000)!\n",
      "Index 3774, Event ID 14265, Values 17340\n",
      "----------\n",
      "Total number of events with values over 5000: 26\n"
     ]
    }
   ],
   "source": [
    "#Loop to see which events have number of values of tolerance\n",
    "tol = 5e3\n",
    "counter = 0\n",
    "big_events = []\n",
    "big_indices = []\n",
    "\n",
    "for k in range(len(events)):\n",
    "    #Getting relevant rows and their attribute IDs\n",
    "    event_df = attributes.loc[attributes['Event ID'] == events[k]]\n",
    "    n = len(event_df)\n",
    "    attribute_ids = event_df['Attribute ID']\n",
    "    values = np.array(event_df['Value'])\n",
    "    if len(values) >= tol: \n",
    "        print('The following event has too many values (more than %d)!' % (tol))\n",
    "        print('Index %d, Event ID %d, Values %d' % (k, events[k], len(values)))\n",
    "        print('----------')\n",
    "        counter += 1\n",
    "        big_events.append(events[k])\n",
    "        big_indices.append(k)\n",
    "        \n",
    "print('Total number of events with values over %d: %d' % (tol, counter))"
   ]
  },
  {
   "cell_type": "code",
   "execution_count": 7,
   "id": "29f0a4b2",
   "metadata": {},
   "outputs": [],
   "source": [
    "#Filtering events before getting attribute IDs\n",
    "filtered_events = [x for x in events if x not in big_events]"
   ]
  },
  {
   "cell_type": "code",
   "execution_count": 8,
   "id": "2b82b92d",
   "metadata": {},
   "outputs": [],
   "source": [
    "# from timeit import default_timer as timer\n",
    "# from datetime import timedelta\n",
    "# from difflib import SequenceMatcher\n",
    "# # import jellyfish as jl\n",
    "\n",
    "# #Creating subset matrix for example\n",
    "\n",
    "# #Begin timer before loop\n",
    "# start = timer()\n",
    "\n",
    "# #Getting subset data\n",
    "# N = 100\n",
    "# attribute_ids_N = np.array(attributes['Attribute ID'][:N]) #Series\n",
    "# values_N = value[:N] #After normalization\n",
    "\n",
    "# #Empty matrix\n",
    "# I = np.zeros((N, N))\n",
    "# for i in range(N):\n",
    "#     for j in range(N):\n",
    "#         if (i >= j):\n",
    "#             I[i,j] = round(SequenceMatcher(None, values_N[i], values_N[j]).ratio(), 3)\n",
    "#             # I[i,j] = round(jl.jaro_similarity(values_N[i], values_N[j]), 3)\n",
    "            \n",
    "# #Matrix as dataframe\n",
    "# df = pd.DataFrame(I, index=attribute_ids_N, columns=attribute_ids_N)\n",
    "# # df.to_csv(r'Data/Inheritance_subset.csv')\n",
    "\n",
    "# #End timer after loop    \n",
    "# end = timer()\n",
    "# print(timedelta(seconds=end-start))"
   ]
  },
  {
   "cell_type": "code",
   "execution_count": 9,
   "id": "d3bcc128",
   "metadata": {},
   "outputs": [
    {
     "name": "stdout",
     "output_type": "stream",
     "text": [
      "0 iterations done in: \n",
      "0:00:00.010121\n",
      "----------\n",
      "1000 iterations done in: \n",
      "0:00:01.930251\n",
      "----------\n",
      "2000 iterations done in: \n",
      "0:00:03.633712\n",
      "----------\n",
      "3000 iterations done in: \n",
      "0:00:05.354856\n",
      "----------\n",
      "0:00:06.927927\n"
     ]
    }
   ],
   "source": [
    "from timeit import default_timer as timer\n",
    "from datetime import timedelta\n",
    "\n",
    "#Getting list of all event and attribute IDs separately\n",
    "start = timer()\n",
    "e, a, index = [], [], []\n",
    "for k in range(len(filtered_events)):\n",
    "    \n",
    "    #Filtering using events\n",
    "    df = attributes.loc[attributes['Event ID'] == filtered_events[k]]\n",
    "    #Attribute ID\n",
    "    attribute_ids = df['Attribute ID']\n",
    "    \n",
    "    #Indices of rows\n",
    "    index_list = list(df.index)\n",
    "    index += index_list\n",
    "    #Appending e and a\n",
    "    for l in range(len(attribute_ids)):\n",
    "        e.append(filtered_events[k])\n",
    "        a.append(np.array(attribute_ids)[l])\n",
    "        \n",
    "    #Checkpoints\n",
    "    if k%1000 == 0:\n",
    "        print('%d iterations done in: ' % (k))\n",
    "        print(timedelta(seconds=timer()-start))\n",
    "        print('----------')\n",
    "print(timedelta(seconds=timer()-start))"
   ]
  },
  {
   "cell_type": "code",
   "execution_count": 10,
   "id": "a909f3ac",
   "metadata": {},
   "outputs": [
    {
     "ename": "NameError",
     "evalue": "name 'value' is not defined",
     "output_type": "error",
     "traceback": [
      "\u001b[0;31m---------------------------------------------------------------------------\u001b[0m",
      "\u001b[0;31mNameError\u001b[0m                                 Traceback (most recent call last)",
      "\u001b[0;32m/tmp/ipykernel_46555/4094547635.py\u001b[0m in \u001b[0;36m<module>\u001b[0;34m\u001b[0m\n\u001b[1;32m      5\u001b[0m \u001b[0mN\u001b[0m \u001b[0;34m=\u001b[0m \u001b[0mlen\u001b[0m\u001b[0;34m(\u001b[0m\u001b[0mindex\u001b[0m\u001b[0;34m)\u001b[0m\u001b[0;34m\u001b[0m\u001b[0;34m\u001b[0m\u001b[0m\n\u001b[1;32m      6\u001b[0m \u001b[0mlabels\u001b[0m \u001b[0;34m=\u001b[0m \u001b[0;34m[\u001b[0m\u001b[0;34m(\u001b[0m\u001b[0mev\u001b[0m\u001b[0;34m,\u001b[0m \u001b[0mat\u001b[0m\u001b[0;34m)\u001b[0m \u001b[0;32mfor\u001b[0m \u001b[0mev\u001b[0m\u001b[0;34m,\u001b[0m \u001b[0mat\u001b[0m \u001b[0;32min\u001b[0m \u001b[0mzip\u001b[0m\u001b[0;34m(\u001b[0m\u001b[0me\u001b[0m\u001b[0;34m,\u001b[0m \u001b[0ma\u001b[0m\u001b[0;34m)\u001b[0m\u001b[0;34m]\u001b[0m\u001b[0;34m\u001b[0m\u001b[0;34m\u001b[0m\u001b[0m\n\u001b[0;32m----> 7\u001b[0;31m \u001b[0mvalues\u001b[0m \u001b[0;34m=\u001b[0m \u001b[0mvalue\u001b[0m\u001b[0;34m[\u001b[0m\u001b[0mindex\u001b[0m\u001b[0;34m]\u001b[0m\u001b[0;34m\u001b[0m\u001b[0;34m\u001b[0m\u001b[0m\n\u001b[0m\u001b[1;32m      8\u001b[0m \u001b[0;34m\u001b[0m\u001b[0m\n\u001b[1;32m      9\u001b[0m \u001b[0;31m#Begin timer before loop\u001b[0m\u001b[0;34m\u001b[0m\u001b[0;34m\u001b[0m\u001b[0;34m\u001b[0m\u001b[0m\n",
      "\u001b[0;31mNameError\u001b[0m: name 'value' is not defined"
     ]
    }
   ],
   "source": [
    "from difflib import SequenceMatcher\n",
    "#Creating matrix\n",
    "\n",
    "#Getting the data\n",
    "N = len(index)\n",
    "labels = [(ev, at) for ev, at in zip(e, a)]\n",
    "value = attributes['Value']\n",
    "values = value[index]\n",
    "\n",
    "#Begin timer before loop\n",
    "start = timer()\n",
    "\n",
    "#Empty matrix\n",
    "I = np.zeros((N, N))    \n",
    "for i in range(N):\n",
    "    for j in range(N):\n",
    "        if (i >= j):\n",
    "            I[i,j] = round(SequenceMatcher(None, values[i], values[j]).ratio(), 3)\n",
    "    #Checkpoints\n",
    "    if i%1000 == 0:\n",
    "        print('%d iterations done in: ' % (k))\n",
    "        print(timedelta(seconds=timer()-start))\n",
    "        print('----------')\n",
    "        \n",
    "#Matrix as dataframe\n",
    "print('-------------------- \\n%Saving to .csv%')\n",
    "df = pd.DataFrame(I, index=labels, columns=labels)\n",
    "df.to_csv(r'Data/Inheritance.csv')\n",
    "\n",
    "#End timer after loop    \n",
    "end = timer()\n",
    "print(timedelta(seconds=end-start))"
   ]
  },
  {
   "cell_type": "code",
   "execution_count": null,
   "id": "91bf85db",
   "metadata": {},
   "outputs": [],
   "source": []
  }
 ],
 "metadata": {
  "kernelspec": {
   "display_name": "Python 3 (ipykernel)",
   "language": "python",
   "name": "python3"
  },
  "language_info": {
   "codemirror_mode": {
    "name": "ipython",
    "version": 3
   },
   "file_extension": ".py",
   "mimetype": "text/x-python",
   "name": "python",
   "nbconvert_exporter": "python",
   "pygments_lexer": "ipython3",
   "version": "3.8.10"
  }
 },
 "nbformat": 4,
 "nbformat_minor": 5
}
