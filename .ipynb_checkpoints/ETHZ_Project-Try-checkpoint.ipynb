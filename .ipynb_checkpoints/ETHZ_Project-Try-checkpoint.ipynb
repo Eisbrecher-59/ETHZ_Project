{
 "cells": [
  {
   "cell_type": "markdown",
   "id": "4067fadb-fb04-4bd2-b4b1-35647aaff8fd",
   "metadata": {},
   "source": [
    "# 0. ETHZ Project\n",
    "\n",
    "This project is associated with the lecture in the Computational Social Science Chair at the ETH Zurich: Data Science in Techno-Socio-Economic Systems\n",
    "\n",
    "The idea is to analyse a dataset using different tools seen during the class.\n",
    "\n",
    "To do that, we use MISP data, i.e. a data set composed by data retrieved on the February 8th 2022. From this dataset, we consider the attributes and we want to know how the MISP Platform is built, based on the inheritance principle seen in one of my previous contribution.\n",
    "\n",
    "### 0.1 Import of libraries and Interface definition"
   ]
  },
  {
   "cell_type": "code",
   "execution_count": 1,
   "id": "c5ecd169-216c-4cfa-ac9f-eb8686f4dec8",
   "metadata": {},
   "outputs": [],
   "source": [
    "from utils import *\n",
    "from IPython.display import Latex\n",
    "\n",
    "%matplotlib inline\n",
    "%load_ext lab_black"
   ]
  },
  {
   "cell_type": "markdown",
   "id": "4155059d-cf22-4af4-8bac-41f8be2308db",
   "metadata": {},
   "source": [
    "### 0.2 Idea wthout NLP"
   ]
  },
  {
   "cell_type": "code",
   "execution_count": 2,
   "id": "4bc8a33b-0898-4c13-9575-bdd9a397355f",
   "metadata": {},
   "outputs": [
    {
     "ename": "TypeError",
     "evalue": "randint() got an unexpected keyword argument 'size'",
     "output_type": "error",
     "traceback": [
      "\u001b[0;31m---------------------------------------------------------------------------\u001b[0m",
      "\u001b[0;31mTypeError\u001b[0m                                 Traceback (most recent call last)",
      "\u001b[0;32m/tmp/ipykernel_45591/2116478299.py\u001b[0m in \u001b[0;36m<module>\u001b[0;34m\u001b[0m\n\u001b[0;32m----> 1\u001b[0;31m \u001b[0mrandom\u001b[0m\u001b[0;34m.\u001b[0m\u001b[0mrandint\u001b[0m\u001b[0;34m(\u001b[0m\u001b[0;36m2\u001b[0m\u001b[0;34m,\u001b[0m \u001b[0msize\u001b[0m\u001b[0;34m=\u001b[0m\u001b[0;36m10\u001b[0m\u001b[0;34m)\u001b[0m\u001b[0;34m\u001b[0m\u001b[0;34m\u001b[0m\u001b[0m\n\u001b[0m",
      "\u001b[0;31mTypeError\u001b[0m: randint() got an unexpected keyword argument 'size'"
     ]
    }
   ],
   "source": [
    "np.random.randint(2, size=10)"
   ]
  },
  {
   "cell_type": "code",
   "execution_count": null,
   "id": "ded1cdda-b4c8-4c6c-b153-8cc28bbc5d0a",
   "metadata": {},
   "outputs": [],
   "source": []
  }
 ],
 "metadata": {
  "kernelspec": {
   "display_name": "Python 3 (ipykernel)",
   "language": "python",
   "name": "python3"
  },
  "language_info": {
   "codemirror_mode": {
    "name": "ipython",
    "version": 3
   },
   "file_extension": ".py",
   "mimetype": "text/x-python",
   "name": "python",
   "nbconvert_exporter": "python",
   "pygments_lexer": "ipython3",
   "version": "3.8.10"
  }
 },
 "nbformat": 4,
 "nbformat_minor": 5
}
